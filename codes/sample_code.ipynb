{
 "cells": [
  {
   "cell_type": "code",
   "execution_count": 1,
   "metadata": {
    "collapsed": false
   },
   "outputs": [
    {
     "name": "stderr",
     "output_type": "stream",
     "text": [
      "/Users/Satoshi/anaconda/lib/python2.7/site-packages/chainer/functions/activation/lstm.py:15: RuntimeWarning: overflow encountered in exp\n",
      "  return 1 / (1 + numpy.exp(-x))\n"
     ]
    }
   ],
   "source": [
    "%matplotlib inline\n",
    "import numpy as np\n",
    "from image_reader import Image_reader\n",
    "from caption_generator import Caption_generator\n",
    "import matplotlib.pyplot as plt\n",
    "\n",
    "#Instantiate image_reader with GoogleNet mean image\n",
    "mean_image = np.array([104, 117, 123]).reshape((3,1,1))\n",
    "image_reader=Image_reader(mean=mean_image)\n",
    "\n",
    "#Instantiate caption generator\n",
    "caption_model_place='../models/caption_model.chainer'\n",
    "cnn_model_place='../data/bvlc_googlenet_caffe_chainer.pkl'\n",
    "index2word_place='../work/index2token.pkl'\n",
    "caption_generator=Caption_generator(caption_model_place=caption_model_place,cnn_model_place=cnn_model_place,index2word_place=index2word_place)"
   ]
  },
  {
   "cell_type": "code",
   "execution_count": null,
   "metadata": {
    "collapsed": false
   },
   "outputs": [],
   "source": [
    "#The preparation is done\n",
    "#Let's ganarate caption for a image\n",
    "\n",
    "#How about this one?\n",
    "image_file_path='../images/test_image.jpg'\n",
    "im = plt.imread(image_file_path)\n",
    "plt.imshow(im)"
   ]
  },
  {
   "cell_type": "code",
   "execution_count": null,
   "metadata": {
    "collapsed": false
   },
   "outputs": [],
   "source": [
    "#First, read an image as numpy array\n",
    "image_file_path='../images/test_image.jpg'\n",
    "image=image_reader.read(image_file_path)\n",
    "#Next, put the image into caption generator\n",
    "#The output structure is \n",
    "#\t[caption,caption,caption,...]\n",
    "#\tcaption = {\"sentence\":This is a generated sentence, \"probability\": The probability of the generated sentence} \n",
    "captions=caption_generator.generate(image)\n",
    "\n",
    "#For example, if you want to print all captions\n",
    "for caption in captions:\n",
    "    sentence=caption['sentence']\n",
    "    probability=caption['probability']\n",
    "    print \" \".join(sentence),probability"
   ]
  },
  {
   "cell_type": "code",
   "execution_count": null,
   "metadata": {
    "collapsed": false
   },
   "outputs": [],
   "source": [
    "#Let's do for another image\n",
    "image_file_path='../images/COCO_val2014_000000185546.jpg'\n",
    "im = plt.imread(image_file_path)\n",
    "plt.imshow(im)"
   ]
  },
  {
   "cell_type": "code",
   "execution_count": null,
   "metadata": {
    "collapsed": false
   },
   "outputs": [],
   "source": [
    "image_file_path='../images/COCO_val2014_000000185546.jpg'\n",
    "image=image_reader.read(image_file_path)\n",
    "captions=caption_generator.generate(image)\n",
    "for caption in captions:\n",
    "    sentence=caption['sentence']\n",
    "    probability=caption['probability']\n",
    "    print \" \".join(sentence),probability"
   ]
  },
  {
   "cell_type": "code",
   "execution_count": null,
   "metadata": {
    "collapsed": false
   },
   "outputs": [],
   "source": [
    "#Sample for other images\n",
    "\n",
    "def sample_generate(image_file_path):\n",
    "    im = plt.imread(image_file_path)\n",
    "    plt.figure()\n",
    "    plt.imshow(im)\n",
    "    plt.show()\n",
    "    image=image_reader.read(image_file_path)\n",
    "    captions=caption_generator.generate(image)\n",
    "    for caption in captions:\n",
    "        sentence=caption['sentence']\n",
    "        probability=caption['probability']\n",
    "        print \" \".join(sentence),probability\n",
    "\n",
    "images=[\n",
    "'../images/COCO_val2014_000000192091.jpg',\n",
    "'../images/COCO_val2014_000000229948.jpg',\n",
    "'../images/COCO_val2014_000000241747.jpg',\n",
    "'../images/COCO_val2014_000000250790.jpg',\n",
    "'../images/COCO_val2014_000000277533.jpg',\n",
    "'../images/COCO_val2014_000000285505.jpg',\n",
    "'../images/COCO_val2014_000000323758.jpg',\n",
    "'../images/COCO_val2014_000000326128.jpg',\n",
    "'../images/COCO_val2014_000000397427.jpg',\n",
    "'../images/COCO_val2014_000000553761.jpg',\n",
    "]\n",
    "\n",
    "for image in images:\n",
    "    sample_generate(image)"
   ]
  },
  {
   "cell_type": "code",
   "execution_count": null,
   "metadata": {
    "collapsed": false
   },
   "outputs": [],
   "source": []
  }
 ],
 "metadata": {
  "kernelspec": {
   "display_name": "Python 2",
   "language": "python",
   "name": "python2"
  },
  "language_info": {
   "codemirror_mode": {
    "name": "ipython",
    "version": 2
   },
   "file_extension": ".py",
   "mimetype": "text/x-python",
   "name": "python",
   "nbconvert_exporter": "python",
   "pygments_lexer": "ipython2",
   "version": "2.7.10"
  }
 },
 "nbformat": 4,
 "nbformat_minor": 0
}
